{
  "nbformat": 4,
  "nbformat_minor": 0,
  "metadata": {
    "colab": {
      "provenance": []
    },
    "kernelspec": {
      "name": "python3",
      "display_name": "Python 3"
    },
    "language_info": {
      "name": "python"
    }
  },
  "cells": [
    {
      "cell_type": "code",
      "source": [
        "import importlib\n",
        "\n",
        "def install_if_not_installed(package):\n",
        "    try:\n",
        "        importlib.import_module(package)\n",
        "        print(f\"{package} is already installed.\")\n",
        "    except ImportError:\n",
        "        print(f\"{package} is not installed. Installing...\")\n",
        "        !pip install {package}\n",
        "        print(f\"{package} has been successfully installed.\")\n",
        "\n",
        "# Check and install ucimlrepo if not installed\n",
        "install_if_not_installed(\"ucimlrepo\")\n",
        "\n",
        "# Import and use ucimlrepo\n",
        "import ucimlrepo"
      ],
      "metadata": {
        "colab": {
          "base_uri": "https://localhost:8080/"
        },
        "id": "epNJowH27at3",
        "outputId": "f1a7f003-55dd-4e72-b1b7-eaa848223c26"
      },
      "execution_count": 1,
      "outputs": [
        {
          "output_type": "stream",
          "name": "stdout",
          "text": [
            "ucimlrepo is already installed.\n"
          ]
        }
      ]
    },
    {
      "cell_type": "code",
      "source": [
        "# Import necessary libraries\n",
        "import numpy as np\n",
        "import pandas as pd\n",
        "import matplotlib.pyplot as plt\n",
        "\n",
        "import warnings\n",
        "warnings.simplefilter(action=\"ignore\")\n",
        "\n",
        "from sklearn.datasets import fetch_openml\n",
        "from sklearn.model_selection import train_test_split, cross_val_score\n",
        "from sklearn.preprocessing import StandardScaler\n",
        "from sklearn.discriminant_analysis import LinearDiscriminantAnalysis as LDA\n",
        "from sklearn.metrics import accuracy_score, precision_score, recall_score, f1_score, confusion_matrix\n",
        "\n",
        "from ucimlrepo import fetch_ucirepo\n",
        "\n",
        "# Load the dataset into a DataFrame\n",
        "spambase = fetch_ucirepo(id=94)\n",
        "\n",
        "X = pd.DataFrame(spambase.data.features)\n",
        "y = pd.DataFrame(spambase.data.targets)\n",
        "\n",
        "# Preprocess the data\n",
        "scaler = StandardScaler()\n",
        "X_normalized_values = scaler.fit_transform(X)\n",
        "X = pd.DataFrame(X_normalized_values, columns=X.columns)\n",
        "\n",
        "# Split the data into training and testing sets\n",
        "X_train, X_test, y_train, y_test = train_test_split(X, y, test_size=0.25, random_state=42)\n",
        "\n",
        "# Initialize LDA\n",
        "lda = LDA()\n",
        "\n",
        "# Train the LDA model on the training dataset\n",
        "lda.fit(X_train, y_train)\n",
        "\n",
        "# Make predictions on the training data\n",
        "y_train_pred = lda.predict(X_train)\n",
        "\n",
        "# Evaluate the model's performance on the training data\n",
        "train_accuracy = accuracy_score(y_train, y_train_pred)\n",
        "train_precision = precision_score(y_train, y_train_pred)\n",
        "train_recall = recall_score(y_train, y_train_pred)\n",
        "train_f1 = f1_score(y_train, y_train_pred)\n",
        "\n",
        "# Print evaluation metrics for training data\n",
        "print(\"Evaluation metrics for training data:\")\n",
        "print(f\"Accuracy: {train_accuracy:.3f}\")\n",
        "print(f\"Precision: {train_precision:.3f}\")\n",
        "print(f\"Recall: {train_recall:.3f}\")\n",
        "print(f\"F1 Score: {train_f1:.3f}\")\n",
        "print()\n",
        "\n",
        "# Make predictions on the testing data\n",
        "y_pred = lda.predict(X_test)\n",
        "\n",
        "# Evaluate the model's performance on the testing data\n",
        "accuracy = accuracy_score(y_test, y_pred)\n",
        "precision = precision_score(y_test, y_pred)\n",
        "recall = recall_score(y_test, y_pred)\n",
        "f1 = f1_score(y_test, y_pred)\n",
        "\n",
        "# Print evaluation metrics for testing data\n",
        "print(\"Evaluation metrics for testing data:\")\n",
        "print(f\"Accuracy: {accuracy:.3f}\")\n",
        "print(f\"Precision: {precision:.3f}\")\n",
        "print(f\"Recall: {recall:.3f}\")\n",
        "print(f\"F1 Score: {f1:.3f}\")\n",
        "print()\n",
        "\n",
        "conf_matrix = confusion_matrix(y_test, y_pred)\n",
        "print(\"Confusion Matrix (test data):\")\n",
        "print(conf_matrix)\n",
        "print()"
      ],
      "metadata": {
        "colab": {
          "base_uri": "https://localhost:8080/"
        },
        "id": "hjSniNl57OIu",
        "outputId": "554a88c7-f999-4ab1-b3dc-451665f43b4b"
      },
      "execution_count": 2,
      "outputs": [
        {
          "output_type": "stream",
          "name": "stdout",
          "text": [
            "Evaluation metrics for training data:\n",
            "Accuracy: 0.887\n",
            "Precision: 0.916\n",
            "Recall: 0.780\n",
            "F1 Score: 0.842\n",
            "\n",
            "Evaluation metrics for testing data:\n",
            "Accuracy: 0.885\n",
            "Precision: 0.930\n",
            "Recall: 0.781\n",
            "F1 Score: 0.849\n",
            "\n",
            "Confusion Matrix (test data):\n",
            "[[648  28]\n",
            " [104 371]]\n",
            "\n"
          ]
        }
      ]
    }
  ]
}