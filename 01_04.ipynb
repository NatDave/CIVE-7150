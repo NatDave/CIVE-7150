{
  "nbformat": 4,
  "nbformat_minor": 0,
  "metadata": {
    "colab": {
      "provenance": []
    },
    "kernelspec": {
      "name": "python3",
      "display_name": "Python 3"
    },
    "language_info": {
      "name": "python"
    }
  },
  "cells": [
    {
      "cell_type": "code",
      "execution_count": 1,
      "metadata": {
        "id": "ZM9bSAqc2XXu",
        "colab": {
          "base_uri": "https://localhost:8080/"
        },
        "outputId": "d3f40ac7-2798-43a5-ff1f-a19a9b7ffec8"
      },
      "outputs": [
        {
          "output_type": "stream",
          "name": "stdout",
          "text": [
            "Matrix 1:\n",
            "[[ 8  2 -9]\n",
            " [-4  1 -7]\n",
            " [ 4 10 -7]]\n",
            "\n",
            "Matrix 2:\n",
            "[[ 2  1  3]\n",
            " [ 1 -9 -8]\n",
            " [ 0  8 -1]]\n",
            "\n",
            "Matrix 3:\n",
            "[[-6  7  4]\n",
            " [ 5 -4 -8]\n",
            " [ 7 -6 -5]]\n",
            "\n",
            "Inverse of Matrix 1:\n",
            "[[ 0.07994924 -0.0964467  -0.00634518]\n",
            " [-0.07106599 -0.02538071  0.11675127]\n",
            " [-0.05583756 -0.09137056  0.02030457]]\n",
            "\n",
            "Inverse of Matrix 2:\n",
            "[[ 0.42690058  0.14619883  0.11111111]\n",
            " [ 0.00584795 -0.01169591  0.11111111]\n",
            " [ 0.04678363 -0.09356725 -0.11111111]]\n",
            "\n",
            "Inverse of Matrix 3:\n",
            "[[ 0.49122807 -0.19298246  0.70175439]\n",
            " [ 0.54385965 -0.03508772  0.49122807]\n",
            " [ 0.03508772 -0.22807018  0.19298246]]\n",
            "\n",
            "Product of Matrix 1 and its inverse:\n",
            "[[ 1.00000000e+00 -5.55111512e-17  6.93889390e-18]\n",
            " [ 5.55111512e-17  1.00000000e+00 -6.93889390e-18]\n",
            " [-5.55111512e-17  5.55111512e-17  1.00000000e+00]]\n",
            "\n",
            "Product of Matrix 2 and its inverse:\n",
            "[[ 1.00000000e+00  0.00000000e+00  0.00000000e+00]\n",
            " [ 0.00000000e+00  1.00000000e+00  0.00000000e+00]\n",
            " [ 2.08166817e-17 -4.16333634e-17  1.00000000e+00]]\n",
            "\n",
            "Product of Matrix 3 and its inverse:\n",
            "[[ 1.00000000e+00  0.00000000e+00 -7.77156117e-16]\n",
            " [ 6.10622664e-16  1.00000000e+00  4.44089210e-16]\n",
            " [-1.17961196e-16 -5.55111512e-17  1.00000000e+00]]\n"
          ]
        }
      ],
      "source": [
        "import numpy as np\n",
        "import random as rd\n",
        "\n",
        "# Function to generate a 3x3 random matrix of size with entries from -10 to 10\n",
        "def gen_rd_matrix():\n",
        "    return np.random.randint(-10, 11, size=(3, 3))\n",
        "\n",
        "# The 3 generated matrices\n",
        "matrix1 = gen_rd_matrix()\n",
        "matrix2 = gen_rd_matrix()\n",
        "matrix3 = gen_rd_matrix()\n",
        "\n",
        "# The inverses of the 3 generated matrices\n",
        "inverse_matrix1 = np.linalg.inv(matrix1)\n",
        "inverse_matrix2 = np.linalg.inv(matrix2)\n",
        "inverse_matrix3 = np.linalg.inv(matrix3)\n",
        "\n",
        "# The product of the matrices with their inverse\n",
        "product1 = matrix1 @ inverse_matrix1\n",
        "product2 = matrix2 @ inverse_matrix2\n",
        "product3 = matrix3 @ inverse_matrix3\n",
        "\n",
        "# Print the matrices\n",
        "print(\"Matrix 1:\")\n",
        "print(matrix1)\n",
        "\n",
        "print(\"\\nMatrix 2:\")\n",
        "print(matrix2)\n",
        "\n",
        "print(\"\\nMatrix 3:\")\n",
        "print(matrix3)\n",
        "\n",
        "# Print the inverses\n",
        "print(\"\\nInverse of Matrix 1:\")\n",
        "print(inverse_matrix1)\n",
        "\n",
        "print(\"\\nInverse of Matrix 2:\")\n",
        "print(inverse_matrix2)\n",
        "\n",
        "print(\"\\nInverse of Matrix 3:\")\n",
        "print(inverse_matrix3)\n",
        "\n",
        "\n",
        "# Print the products\n",
        "print(\"\\nProduct of Matrix 1 and its inverse:\")\n",
        "print(product1)\n",
        "\n",
        "print(\"\\nProduct of Matrix 2 and its inverse:\")\n",
        "print(product2)\n",
        "\n",
        "print(\"\\nProduct of Matrix 3 and its inverse:\")\n",
        "print(product3)"
      ]
    }
  ]
}